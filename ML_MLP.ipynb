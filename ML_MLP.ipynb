{
  "nbformat": 4,
  "nbformat_minor": 0,
  "metadata": {
    "colab": {
      "name": "ML_MLP.ipynb",
      "provenance": [],
      "collapsed_sections": []
    },
    "kernelspec": {
      "name": "python3",
      "display_name": "Python 3"
    },
    "language_info": {
      "name": "python"
    }
  },
  "cells": [
    {
      "cell_type": "code",
      "execution_count": 1,
      "metadata": {
        "id": "oqPLPRRUdXUC"
      },
      "outputs": [],
      "source": [
        "import numpy as np\n",
        "from keras.models import Sequential\n",
        "from keras.layers import Dense, Dropout\n",
        "from scipy.io.arff import loadarff\n",
        "from sklearn import preprocessing"
      ]
    },
    {
      "cell_type": "code",
      "source": [
        "# Dataset available on Kaggle , multiclasse are reduced to just 2 (Attack, Not Attack ) at for this attempt \n" , 
        "KDDTrain, train_metadata = loadarff(\"drive/MyDrive/NSL/KDDTrain+.arff\")\n",
        "KDDTest, test_metadata = loadarff(\"drive/MyDrive/NSL/KDDTest+.arff\")"
      ],
      "metadata": {
        "id": "SKRPE1X1J7yn"
      },
      "execution_count": 2,
      "outputs": []
    },
    {
      "cell_type": "code",
      "source": [
        "training_nparray = np.asarray(KDDTrain.tolist())\n",
        "testing_nparray = np.asarray(KDDTest.tolist())"
      ],
      "metadata": {
        "id": "9IxUOeKfKGuF"
      },
      "execution_count": 3,
      "outputs": []
    },
    {
      "cell_type": "code",
      "source": [
        "enc = preprocessing.OrdinalEncoder()\n",
        "#encoding(1hotenc?)\n",
        "encoded_dataset = enc.fit_transform(training_nparray)  \n",
        "#all clumns representing features except the last one (attack not attack)\n",
        "X_train = encoded_dataset[:, :-1]  \n",
        "y_train = np.ravel(encoded_dataset[:, -1:])  "
      ],
      "metadata": {
        "id": "wihmUKFRKSGd"
      },
      "execution_count": 4,
      "outputs": []
    },
    {
      "cell_type": "code",
      "source": [
        "encoded_dataset = enc.fit_transform(testing_nparray)\n",
        "X_test = encoded_dataset[:, :-1]\n",
        "y_test = np.ravel(encoded_dataset[:, -1:])"
      ],
      "metadata": {
        "id": "7ZSbLWrMKb2p"
      },
      "execution_count": 5,
      "outputs": []
    },
    {
      "cell_type": "code",
      "source": [
        "model = Sequential()\n",
        "model.add(Dense(3, input_dim=41, activation='relu'))\n",
        "model.add(Dropout(0.5))\n",
        "#model.add(Dense(16, activation='relu'))\n",
        "#model.add(Dropout(0.5))\n",
        "#model.add(Dense(16, activation='relu'))\n",
        "#model.add(Dropout(0.5))\n",
        "#model.add(Dense(4, activation='relu'))\n",
        "#model.add(Dropout(0.5))\n",
        "model.add(Dense(1, activation='sigmoid'))\n"
      ],
      "metadata": {
        "id": "YhcMyi75KewV"
      },
      "execution_count": 44,
      "outputs": []
    },
    {
      "cell_type": "code",
      "source": [
        "model.compile(loss='binary_crossentropy',\n",
        "              optimizer='RMSprop',\n",
        "              metrics=['accuracy'])\n"
      ],
      "metadata": {
        "id": "E91qnM0AKjyn"
      },
      "execution_count": 45,
      "outputs": []
    },
    {
      "cell_type": "code",
      "source": [
        "model.fit(X_train, y_train,\n",
        "          epochs=20,\n",
        "          batch_size=64)\n",
        "score = model.evaluate(X_test, y_test, batch_size=64)\n"
      ],
      "metadata": {
        "id": "7WDhVubeKn7e",
        "colab": {
          "base_uri": "https://localhost:8080/"
        },
        "outputId": "be39bef3-a6ff-42c0-ceb5-d66c23d45de6"
      },
      "execution_count": 46,
      "outputs": [
        {
          "output_type": "stream",
          "name": "stdout",
          "text": [
            "Epoch 1/20\n",
            "1969/1969 [==============================] - 23s 2ms/step - loss: 4.2653 - accuracy: 0.7609\n",
            "Epoch 2/20\n",
            "1969/1969 [==============================] - 3s 2ms/step - loss: 0.4463 - accuracy: 0.8120\n",
            "Epoch 3/20\n",
            "1969/1969 [==============================] - 3s 2ms/step - loss: 0.4268 - accuracy: 0.8137\n",
            "Epoch 4/20\n",
            "1969/1969 [==============================] - 3s 2ms/step - loss: 0.4180 - accuracy: 0.8157\n",
            "Epoch 5/20\n",
            "1969/1969 [==============================] - 3s 2ms/step - loss: 0.4130 - accuracy: 0.8194\n",
            "Epoch 6/20\n",
            "1969/1969 [==============================] - 3s 2ms/step - loss: 0.4071 - accuracy: 0.8213\n",
            "Epoch 7/20\n",
            "1969/1969 [==============================] - 3s 2ms/step - loss: 0.4066 - accuracy: 0.8209\n",
            "Epoch 8/20\n",
            "1969/1969 [==============================] - 3s 2ms/step - loss: 0.4008 - accuracy: 0.8237\n",
            "Epoch 9/20\n",
            "1969/1969 [==============================] - 3s 2ms/step - loss: 0.3988 - accuracy: 0.8238\n",
            "Epoch 10/20\n",
            "1969/1969 [==============================] - 3s 2ms/step - loss: 0.3947 - accuracy: 0.8256\n",
            "Epoch 11/20\n",
            "1969/1969 [==============================] - 3s 2ms/step - loss: 0.3948 - accuracy: 0.8240\n",
            "Epoch 12/20\n",
            "1969/1969 [==============================] - 3s 2ms/step - loss: 0.3910 - accuracy: 0.8267\n",
            "Epoch 13/20\n",
            "1969/1969 [==============================] - 3s 2ms/step - loss: 0.3728 - accuracy: 0.8474\n",
            "Epoch 14/20\n",
            "1969/1969 [==============================] - 3s 2ms/step - loss: 0.3357 - accuracy: 0.8712\n",
            "Epoch 15/20\n",
            "1969/1969 [==============================] - 3s 2ms/step - loss: 0.3266 - accuracy: 0.8756\n",
            "Epoch 16/20\n",
            "1969/1969 [==============================] - 3s 2ms/step - loss: 0.3186 - accuracy: 0.8797\n",
            "Epoch 17/20\n",
            "1969/1969 [==============================] - 3s 2ms/step - loss: 0.3166 - accuracy: 0.8821\n",
            "Epoch 18/20\n",
            "1969/1969 [==============================] - 3s 2ms/step - loss: 0.3134 - accuracy: 0.8834\n",
            "Epoch 19/20\n",
            "1969/1969 [==============================] - 3s 2ms/step - loss: 0.3141 - accuracy: 0.8826\n",
            "Epoch 20/20\n",
            "1969/1969 [==============================] - 3s 2ms/step - loss: 0.3132 - accuracy: 0.8827\n",
            "353/353 [==============================] - 1s 1ms/step - loss: 0.8290 - accuracy: 0.8310\n"
          ]
        }
      ]
    },
    {
      "cell_type": "code",
      "source": [
        "score = model.evaluate(X_test, y_test, batch_size=64)"
      ],
      "metadata": {
        "colab": {
          "base_uri": "https://localhost:8080/"
        },
        "id": "NyJE5hnWKpLZ",
        "outputId": "bd673a67-3757-4820-d4f1-fabb3edebcce"
      },
      "execution_count": 47,
      "outputs": [
        {
          "output_type": "stream",
          "name": "stdout",
          "text": [
            "353/353 [==============================] - 1s 1ms/step - loss: 0.8290 - accuracy: 0.8310\n"
          ]
        }
      ]
    },
    {
      "cell_type": "code",
      "source": [
        "total_datapoints = X_test.shape[0]\n",
        "percent_correct = score[1] * 100\n",
        "correct_datapoints = int(round(total_datapoints * percent_correct) / 100)\n",
        "mislabeled_datapoints = total_datapoints - correct_datapoints"
      ],
      "metadata": {
        "id": "Ad3oSsr3LC75"
      },
      "execution_count": 48,
      "outputs": []
    },
    {
      "cell_type": "code",
      "source": [
        "print(\"MultiLevelPerceptron Classifier results for NSL-KDD using TensorFlow:\\n\")\n",
        "print(\"Total datapoints: %d\\nCorrect datapoints: %d\\nMislabeled datapoints: %d\\nPercent correct: %.2f%%\"\n",
        "      % (total_datapoints, correct_datapoints, mislabeled_datapoints, percent_correct))"
      ],
      "metadata": {
        "id": "8-gBlpY4LJBy",
        "colab": {
          "base_uri": "https://localhost:8080/"
        },
        "outputId": "678dec96-97cb-4f9f-c58e-99181cefc44b"
      },
      "execution_count": 49,
      "outputs": [
        {
          "output_type": "stream",
          "name": "stdout",
          "text": [
            "MultiLevelPerceptron Classifier results for NSL-KDD using TensorFlow and Keras:\n",
            "\n",
            "Total datapoints: 22544\n",
            "Correct datapoints: 18733\n",
            "Mislabeled datapoints: 3811\n",
            "Percent correct: 83.10%\n"
          ]
        }
      ]
    }
  ]
}
