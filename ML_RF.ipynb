{
  "nbformat": 4,
  "nbformat_minor": 0,
  "metadata": {
    "colab": {
      "name": "ML_RF.ipynb",
      "provenance": [],
      "collapsed_sections": []
    },
    "kernelspec": {
      "name": "python3",
      "display_name": "Python 3"
    },
    "language_info": {
      "name": "python"
    }
  },
  "cells": [
    {
      "cell_type": "code",
      "execution_count": 1,
      "metadata": {
        "id": "Cz5-dQyFZF50"
      },
      "outputs": [],
      "source": [
        "import numpy as np\n",
        "from scipy.io.arff import loadarff\n",
        "from sklearn import preprocessing\n",
        "from sklearn.ensemble import RandomForestClassifier\n",
        "from sklearn.datasets import make_classification"
      ]
    },
    {
      "cell_type": "code",
      "source": [
        "# Dataset available on Kaggle , multiclasse are reduced to just 2 (Attack, Not Attack ) at for this attempt \n",
        "KDDTrain, train_metadata = loadarff(\"drive/MyDrive/NSL/KDDTrain+.arff\")\n",
        "KDDTest, test_metadata = loadarff(\"drive/MyDrive/NSL/KDDTest+.arff\")"
      ],
      "metadata": {
        "id": "3DN4Bd3x4wgy"
      },
      "execution_count": 2,
      "outputs": []
    },
    {
      "cell_type": "code",
      "source": [
        "training_nparray = np.asarray(KDDTrain.tolist())\n",
        "testing_nparray = np.asarray(KDDTest.tolist())"
      ],
      "metadata": {
        "id": "tmz91dLf47BF"
      },
      "execution_count": 3,
      "outputs": []
    },
    {
      "cell_type": "code",
      "source": [
        "enc = preprocessing.OrdinalEncoder()\n",
        "\n",
        "encoded_dataset = enc.fit_transform(training_nparray)  \n",
        "X_train_rf = encoded_dataset[:, :-1] \n",
        "y_train_rf = np.ravel(encoded_dataset[:, -1:])  \n"
      ],
      "metadata": {
        "id": "AARbqiNl498Y"
      },
      "execution_count": 4,
      "outputs": []
    },
    {
      "cell_type": "code",
      "source": [
        "encoded_dataset = enc.fit_transform(testing_nparray)\n",
        "X_test_rf = encoded_dataset[:, :-1]\n",
        "y_test_rf = np.ravel(encoded_dataset[:, -1:])"
      ],
      "metadata": {
        "id": "CJydnoZF57xv"
      },
      "execution_count": 5,
      "outputs": []
    },
    {
      "cell_type": "code",
      "source": [
        "classifier = RandomForestClassifier(n_estimators = 2, criterion = 'entropy',random_state= 0)"
      ],
      "metadata": {
        "id": "rrrmN7Hh6MZz"
      },
      "execution_count": 6,
      "outputs": []
    },
    {
      "cell_type": "code",
      "source": [
        "classifier.fit(X_train_rf,y_train_rf)"
      ],
      "metadata": {
        "colab": {
          "base_uri": "https://localhost:8080/"
        },
        "id": "eu7rHQ8b6nQm",
        "outputId": "b9c2d321-cc67-4671-9977-106d20023bbc"
      },
      "execution_count": 7,
      "outputs": [
        {
          "output_type": "execute_result",
          "data": {
            "text/plain": [
              "RandomForestClassifier(criterion='entropy', n_estimators=2, random_state=0)"
            ]
          },
          "metadata": {},
          "execution_count": 7
        }
      ]
    },
    {
      "cell_type": "code",
      "source": [
        "y_pred = classifier.predict(X_test_rf)\n",
        "print(y_pred)"
      ],
      "metadata": {
        "colab": {
          "base_uri": "https://localhost:8080/"
        },
        "id": "grCdWP3U7M9p",
        "outputId": "9d175016-39ad-43d1-f413-24b5085e2786"
      },
      "execution_count": 8,
      "outputs": [
        {
          "output_type": "stream",
          "name": "stdout",
          "text": [
            "[0. 0. 1. ... 1. 1. 0.]\n"
          ]
        }
      ]
    },
    {
      "cell_type": "code",
      "source": [
        "print(classifier.score(X_train_rf,y_train_rf))"
      ],
      "metadata": {
        "colab": {
          "base_uri": "https://localhost:8080/"
        },
        "id": "1w7IHzE6_-1B",
        "outputId": "8084c9f2-8033-4db2-c2f6-2c6dc0424d12"
      },
      "execution_count": 9,
      "outputs": [
        {
          "output_type": "stream",
          "name": "stdout",
          "text": [
            "0.9985949370103118\n"
          ]
        }
      ]
    },
    {
      "cell_type": "code",
      "source": [
        "print (classifier.score(X_test_rf, y_test_rf))"
      ],
      "metadata": {
        "colab": {
          "base_uri": "https://localhost:8080/"
        },
        "id": "K5bRiBw3B_og",
        "outputId": "cf289ec3-4ca9-4f31-f1a0-616f39cbdc63"
      },
      "execution_count": 10,
      "outputs": [
        {
          "output_type": "stream",
          "name": "stdout",
          "text": [
            "0.8224804826117814\n"
          ]
        }
      ]
    }
  ]
}